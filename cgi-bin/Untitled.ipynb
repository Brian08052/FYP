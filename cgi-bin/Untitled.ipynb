{
 "cells": [
  {
   "cell_type": "code",
   "execution_count": 25,
   "metadata": {},
   "outputs": [],
   "source": [
    "def genPreview(artistName, description, photo):\n",
    "  print(artistName, description, photo)\n",
    "  s = (\"\"\"<div class='w3-quarter'; box-shadow: 10px 10px 5px #888888;>\n",
    "      <img src='ticketsPhotos/%s' alt='%s' style='width:100%%'>\n",
    "      <h3>%s</h3><a href='http://example.com'>\n",
    "      <p color = 'red'>%s</p></a>\n",
    "    </div>\"\"\"%(photo, artistName, artistName, description))\n",
    "  return s\n"
   ]
  },
  {
   "cell_type": "code",
   "execution_count": 26,
   "metadata": {},
   "outputs": [
    {
     "name": "stdout",
     "output_type": "stream",
     "text": [
      "Liam good image.jpg\n"
     ]
    },
    {
     "data": {
      "text/plain": [
       "\"<div class='w3-quarter'; box-shadow: 10px 10px 5px #888888;>\\n      <img src='ticketsPhotos/image.jpg' alt='Liam' style='width:100%'>\\n      <h3>Liam</h3><a href='http://example.com'>\\n      <p color = 'red'>good</p></a>\\n    </div>\""
      ]
     },
     "execution_count": 26,
     "metadata": {},
     "output_type": "execute_result"
    }
   ],
   "source": [
    "genPreview(\"Liam\", \"good\", \"image.jpg\")"
   ]
  },
  {
   "cell_type": "code",
   "execution_count": 24,
   "metadata": {},
   "outputs": [],
   "source": [
    "photo = \"p\"\n",
    "artistName = \"L\"\n",
    "description = \"d\"\n",
    "\n",
    "s = (\"\"\"<div class='w3-quarter'; box-shadow: 10px 10px 5px #888888;>%s\n",
    "<img src='ticketsPhotos/' alt='' style='width:100%%'><h3>\n",
    "\n",
    "</h3><a href='http://example.com'><p color = 'red'></p></a></div>\"\"\"%(artistName))\n",
    "    \n",
    "    "
   ]
  },
  {
   "cell_type": "code",
   "execution_count": 28,
   "metadata": {},
   "outputs": [
    {
     "ename": "ImportError",
     "evalue": "No module named 'unicode'",
     "output_type": "error",
     "traceback": [
      "\u001b[0;31m---------------------------------------------------------------------------\u001b[0m",
      "\u001b[0;31mImportError\u001b[0m                               Traceback (most recent call last)",
      "\u001b[0;32m<ipython-input-28-56285e3db577>\u001b[0m in \u001b[0;36m<module>\u001b[0;34m()\u001b[0m\n\u001b[0;32m----> 1\u001b[0;31m \u001b[0;32mimport\u001b[0m \u001b[0municode\u001b[0m\u001b[0;34m\u001b[0m\u001b[0m\n\u001b[0m\u001b[1;32m      2\u001b[0m \u001b[0municode\u001b[0m\u001b[0;34m(\u001b[0m\u001b[0;34m'abcdef'\u001b[0m\u001b[0;34m)\u001b[0m\u001b[0;34m\u001b[0m\u001b[0m\n\u001b[1;32m      3\u001b[0m \u001b[0;34mu'abcdef'\u001b[0m\u001b[0;34m\u001b[0m\u001b[0m\n\u001b[1;32m      4\u001b[0m \u001b[0ms\u001b[0m \u001b[0;34m=\u001b[0m \u001b[0municode\u001b[0m\u001b[0;34m(\u001b[0m\u001b[0;34m'abcdef'\u001b[0m\u001b[0;34m)\u001b[0m\u001b[0;34m\u001b[0m\u001b[0m\n\u001b[1;32m      5\u001b[0m \u001b[0mtype\u001b[0m\u001b[0;34m(\u001b[0m\u001b[0ms\u001b[0m\u001b[0;34m)\u001b[0m\u001b[0;34m\u001b[0m\u001b[0m\n",
      "\u001b[0;31mImportError\u001b[0m: No module named 'unicode'"
     ]
    }
   ],
   "source": [
    "import unicode\n",
    "unicode('abcdef')\n",
    "u'abcdef'\n",
    "s = unicode('abcdef')\n",
    "type(s)\n",
    "\n"
   ]
  },
  {
   "cell_type": "code",
   "execution_count": null,
   "metadata": {},
   "outputs": [],
   "source": [
    ">>> unicode('abcdef' + chr(255))    \n",
    "Traceback (most recent call last):"
   ]
  }
 ],
 "metadata": {
  "kernelspec": {
   "display_name": "Python 3",
   "language": "python",
   "name": "python3"
  },
  "language_info": {
   "codemirror_mode": {
    "name": "ipython",
    "version": 3
   },
   "file_extension": ".py",
   "mimetype": "text/x-python",
   "name": "python",
   "nbconvert_exporter": "python",
   "pygments_lexer": "ipython3",
   "version": "3.5.2"
  }
 },
 "nbformat": 4,
 "nbformat_minor": 2
}
