{
 "cells": [
  {
   "cell_type": "code",
   "execution_count": 168,
   "metadata": {},
   "outputs": [],
   "source": [
    "import matplotlib.pyplot as plt\n",
    "import numpy as np\n",
    "from matplotlib import *\n",
    "from pylab import *\n",
    "\n",
    "from sklearn.pipeline import Pipeline\n",
    "\n",
    "from sklearn.linear_model import LinearRegression\n",
    "from sklearn.preprocessing import PolynomialFeatures\n",
    "\n",
    "from sklearn.model_selection import validation_curve\n",
    "from sklearn.model_selection import learning_curve\n",
    "from sklearn.model_selection import cross_validate\n",
    "\n",
    "def strToArray(s):\n",
    "    #turns a string line into an array\n",
    "    arr = s.split(',')\n",
    "    arr2 = []\n",
    "    for s in arr:\n",
    "        if s == '':\n",
    "            arr2 += [None]\n",
    "        else:\n",
    "            #error checking\n",
    "            arr2 += [int(s)]\n",
    "    return arr2\n",
    "\n",
    "def stringToArr(fullSet):\n",
    "    #Converts a text file into a an array of arrays\n",
    "    #gets rid of the bit of string at the top of the txt file\n",
    "    fullSet[0][0] = fullSet[0][0][3:]\n",
    "    \n",
    "    #make a new arr that will hold all our new arrays\n",
    "    out = []\n",
    "    for l in fullSet:\n",
    "        #makes an array out of each string\n",
    "        arr = strToArray(l[0])\n",
    "        out += [arr]\n",
    "    return out\n",
    "\n",
    "###################################################################################################\n",
    "\n",
    "def cleanSet(fullArray):\n",
    "    cleanArray = []\n",
    "    for sample in fullArray:\n",
    "        fillZeroForNone(sample)\n",
    "        clearRecurrence(sample)\n",
    "        if not tooManyBlanks(sample):\n",
    "            cleanArray += [replaceNones(sample)]\n",
    "    \n",
    "    return cleanArray\n",
    "\n",
    "\n",
    "def cleanDict(d):\n",
    "    cleanD = {}\n",
    "    for key in d:\n",
    "        sample = d[key].copy()\n",
    "        fillZeroForNone(sample)\n",
    "        clearRecurrence(sample)\n",
    "        if not tooManyBlanks(sample):\n",
    "            cleanD[key] = replaceNones(sample)\n",
    "            #cleanD[key] = sample\n",
    "    \n",
    "    return cleanD\n",
    "            \n",
    "\n",
    "\n",
    "    \n",
    "#************************************* Helper Functions *********************************\n",
    "        \n",
    "        \n",
    "def fillZeroForNone(sample):\n",
    "    #recursive function that replaces Nones with 0 if the next value in the array is 0.\n",
    "    #clear recurrence handles nones that come after\n",
    "    for i in range(len(sample)):\n",
    "        if sample[i] == 0:\n",
    "            if sample[i-1] == None:\n",
    "                sample[i-1] = 0\n",
    "                sample = fillZeroForNone(sample)\n",
    "    return sample\n",
    "\n",
    "def clearRecurrence(sample):\n",
    "    #We're not interested in the cases where the cancer comes back.\n",
    "    #If the number gets low enoguh, everything that comes after is set to zero.\n",
    "    \n",
    "    #if the sample gets low enough, everything after is set to zero.\n",
    "    #this is to learn the general sequence of decay without reoccurance \n",
    "    flag = False\n",
    "    for i in range(len(sample)):\n",
    "        if flag == True:\n",
    "            sample[i] = 0\n",
    "        if sample[i] != None and sample[i] <= 3:\n",
    "            flag = True\n",
    "\n",
    "    return sample\n",
    "\n",
    "def tooManyBlanks(sample):###\n",
    "    #Checks if the sample has 3 Nones in a row.\n",
    "    \n",
    "    #Must be clearRecurrence() sample first!\n",
    "    i = 0\n",
    "    counter = 0\n",
    "    while i < len(sample):\n",
    "        if sample[i] == None:\n",
    "            counter+=1\n",
    "        else:\n",
    "            counter = 0\n",
    "        if counter == 3:\n",
    "            return True\n",
    "        i+= 1\n",
    "    return False\n",
    "\n",
    "def replaceNones(sample):\n",
    "    #Data needs to be checked first that first element isnt none\n",
    "    #if sample[0] is None: return None\n",
    "    #if there's 3 Nones, toss it I'd say.\n",
    "    \n",
    "    tempArr = []\n",
    "    \n",
    "    for i in range(len(sample)):\n",
    "        if sample[i] == None:\n",
    "            if sample[i+1] != None:\n",
    "                value = (sample[i-1] + sample[i+1])/2 \n",
    "                sample[i] = value\n",
    "            else:\n",
    "                difference = sample[i-1] - sample[i+2]\n",
    "                sample[i] = round(sample[i-1] - difference/3)\n",
    "                sample[i + 1] = round(sample[i] - difference/3)\n",
    "                \n",
    "    return sample\n",
    "                \n",
    "            \n",
    "    \n",
    "#     tempArr = []\n",
    "#     for i in range(len(sample)):\n",
    "#         if sample[i] == None:\n",
    "#             tempArr +=[sample[i-1] , sample[i], sample[i+1]]\n",
    "#             if sample[i+1] == None:\n",
    "#                 tempArr += [sample[i+2]]\n",
    "#             tempArr = fillInNones(tempArr)\n",
    "#             for j in range(len(tempArr)):\n",
    "#                 sample[i+j] = tempArr[j]\n",
    "#     return sample\n",
    "            \n",
    "            #So now you have a temp array with either one or two Nones in the middle.\n",
    "        \n",
    "def fillInNones(tempArray):\n",
    "    #Helper Fuction for replace Nones!\n",
    "    #print(tempArray)\n",
    "    #Assumes the middle is entirely Nones\n",
    "    if len(tempArray) <= 2:\n",
    "        return False\n",
    "   \n",
    "    first = tempArray[0]\n",
    "    last = tempArray[len(tempArray) - 1]\n",
    "    gap = (first - last)\n",
    "\n",
    "    average = gap/(len(tempArray)-1)\n",
    "    \n",
    "    for i in range(len(tempArray)-2):#so if four, goes 1, 2\n",
    "        tempArray[i+1] = int(round(first - (average * (i +1))))\n",
    "    return tempArray\n",
    "    \n",
    "\n",
    "        \n",
    "        \n",
    "        \n",
    "        \n",
    "        ################################## Set statistics ###############################\n",
    "        \n",
    "def highestValuesInEachSample(dataSet):\n",
    "    arr = []\n",
    "    for d in dataSet:\n",
    "        arr += [max(d)]\n",
    "    return arr\n",
    "\n",
    "def graphSample(sampleNumber):\n",
    "    return\n",
    "    #plot line\n",
    "    \n",
    "\n",
    "def updateDataframe():\n",
    "    return\n",
    "    #connect to DB\n",
    "    #\n"
   ]
  },
  {
   "cell_type": "code",
   "execution_count": 169,
   "metadata": {},
   "outputs": [
    {
     "data": {
      "text/plain": [
       "4"
      ]
     },
     "execution_count": 169,
     "metadata": {},
     "output_type": "execute_result"
    }
   ],
   "source": [
    "2+2"
   ]
  },
  {
   "cell_type": "code",
   "execution_count": 174,
   "metadata": {},
   "outputs": [
    {
     "data": {
      "text/plain": [
       "33"
      ]
     },
     "execution_count": 174,
     "metadata": {},
     "output_type": "execute_result"
    }
   ],
   "source": [
    "with open('converttxt.txt') as f:\n",
    "   data = [line.split() for line in f.readlines()]\n",
    "   \n",
    "print(data)\n",
    "data = stringToArr(data)\n",
    "\n",
    "dic = {}\n",
    "for i in range(len(data)):\n",
    "    dic[i] = data[i]\n",
    "\n",
    "    \n",
    "dic2 = cleanDict(dic)\n",
    "\n",
    "#print(dic[1], dic2[1])\n",
    "\n",
    "#for key in dic2:\n",
    "    #print(dic[key], '\\n', dic2[key])\n",
    "\n"
   ]
  },
  {
   "cell_type": "code",
   "execution_count": 155,
   "metadata": {},
   "outputs": [
    {
     "data": {
      "text/plain": [
       "[407433]"
      ]
     },
     "execution_count": 155,
     "metadata": {},
     "output_type": "execute_result"
    }
   ],
   "source": [
    "#Trying to graph a scatter plot of the percentage decay in a week, given the value?\n",
    "values = []\n",
    "valuePairs = []\n",
    "for key in dic:\n",
    "    case = dic[key]\n",
    "    for i in range(1, len(case) -1):\n",
    "        if (case[i] not in [None, 0] and case[i+1]!= None):\n",
    "            values += [(case[i], (case[i]-case[i+1]/case[i]))]\n",
    "            valuePairs += [(case[i], case[i+1])]\n",
    "\n",
    "xAx = [] #value\n",
    "yAx = [] #percentage change\n",
    "X_train = []\n",
    "y_train = []\n",
    "\n",
    "for v in values:\n",
    "    xAx += [v[0]]\n",
    "    yAx += [v[1]]\n",
    "\n",
    "for v in valuePairs:\n",
    "    X_train += [[v[0]]]\n",
    "    y_train += [[v[1]]]\n",
    "    \n",
    "    \n",
    "\n",
    "# matplotlib.pyplot.scatter(xAx, yAx)\n",
    "# matplotlib.show()"
   ]
  },
  {
   "cell_type": "code",
   "execution_count": 153,
   "metadata": {},
   "outputs": [
    {
     "data": {
      "image/png": "[encoded data removed]",
      "text/plain": [
       "<matplotlib.figure.Figure at 0xd577ad0>"
      ]
     },
     "metadata": {},
     "output_type": "display_data"
    }
   ],
   "source": [
    "# Plot it so you can see what it looks like\n",
    "fig = plt.figure()\n",
    "plt.xlabel(\"Feature\")\n",
    "plt.ylabel(\"y\")\n",
    "#plt.ylim(-4, 14)\n",
    "plt.scatter(X_train, y_train, color = \"green\")\n",
    "plt.show()"
   ]
  },
  {
   "cell_type": "code",
   "execution_count": 154,
   "metadata": {},
   "outputs": [
    {
     "data": {
      "text/plain": [
       "LinearRegression(copy_X=True, fit_intercept=True, n_jobs=1, normalize=False)"
      ]
     },
     "execution_count": 154,
     "metadata": {},
     "output_type": "execute_result"
    }
   ],
   "source": [
    "# Fit the model\n",
    "linear_estimator = LinearRegression()\n",
    "linear_estimator.fit(X_train, y_train)"
   ]
  },
  {
   "cell_type": "code",
   "execution_count": 180,
   "metadata": {},
   "outputs": [],
   "source": [
    "vals = np.linspace(-0.1, 420000, 500).reshape(500, 1) "
   ]
  },
  {
   "cell_type": "code",
   "execution_count": 157,
   "metadata": {},
   "outputs": [],
   "source": [
    "# Get its predictions\n",
    "y_predicted = linear_estimator.predict(vals)"
   ]
  },
  {
   "cell_type": "code",
   "execution_count": 158,
   "metadata": {},
   "outputs": [
    {
     "data": {
      "image/png": "[encoded data removed]",
      "text/plain": [
       "<matplotlib.figure.Figure at 0xd577f70>"
      ]
     },
     "metadata": {},
     "output_type": "display_data"
    }
   ],
   "source": [
    "# Plot the training set and also the predictions made by the model\n",
    "fig = plt.figure()\n",
    "plt.xlabel(\"Feature\")\n",
    "plt.ylabel(\"y\")\n",
    "#plt.ylim(-4, 14)\n",
    "plt.scatter(X_train, y_train, color = \"green\")\n",
    "plt.plot(vals, y_predicted, color = \"blue\")\n",
    "plt.show()"
   ]
  },
  {
   "cell_type": "code",
   "execution_count": 178,
   "metadata": {},
   "outputs": [
    {
     "data": {
      "image/png": "[encoded data removed]",
      "text/plain": [
       "<matplotlib.figure.Figure at 0xe691d10>"
      ]
     },
     "metadata": {},
     "output_type": "display_data"
    }
   ],
   "source": [
    "# Fit the model\n",
    "quadratic_estimator = Pipeline([\n",
    "        (\"polyfeatures\", PolynomialFeatures(degree=2, include_bias=False)),\n",
    "        (\"estimator\", LinearRegression())\n",
    "    ])\n",
    "quadratic_estimator.fit(X_train, y_train)\n",
    "\n",
    "# Get its predictions\n",
    "y_predicted = quadratic_estimator.predict(vals)\n",
    "\n",
    "\n",
    "# Plot the training set and also the predictions made by the model on the validation set\n",
    "fig = plt.figure()\n",
    "plt.xlabel(\"Feature\")\n",
    "plt.ylabel(\"y\")\n",
    "#plt.ylim(-4, 14)\n",
    "plt.scatter(X_train, y_train, color = \"green\")\n",
    "plt.plot(vals, y_predicted, color = \"blue\")\n",
    "plt.show()"
   ]
  },
  {
   "cell_type": "code",
   "execution_count": 163,
   "metadata": {},
   "outputs": [],
   "source": [
    "degrees = np.arange(1, 30)\n",
    "\n",
    "X = X_train\n",
    "y = y_train\n",
    "\n",
    "estimator = Pipeline([\n",
    "        (\"polyfeatures\", PolynomialFeatures(include_bias=False)),\n",
    "        (\"estimator\", LinearRegression())\n",
    "    ])\n",
    "\n",
    "mses_train, mses_val = validation_curve(\n",
    "    estimator, X, y, \"polyfeatures__degree\", degrees, cv=10, scoring=\"neg_mean_squared_error\")\n",
    "mean_mses_train = np.mean(np.abs(mses_train), axis=1)\n",
    "mean_mses_val = np.mean(np.abs(mses_val), axis=1)"
   ]
  },
  {
   "cell_type": "code",
   "execution_count": 166,
   "metadata": {},
   "outputs": [
    {
     "data": {
      "image/png": "[encoded data removed]",
      "text/plain": [
       "<matplotlib.figure.Figure at 0xd5b7ad0>"
      ]
     },
     "metadata": {},
     "output_type": "display_data"
    }
   ],
   "source": [
    "fig = plt.figure()\n",
    "plt.xlabel(\"degree\")\n",
    "plt.ylabel(\"MSE\")\n",
    "#plt.ylim(0, 2)\n",
    "plt.plot(degrees, mean_mses_train, label = \"training error\", color = \"red\")\n",
    "plt.plot(degrees, mean_mses_val, label=\"validation error\", color = \"gold\")\n",
    "plt.legend()\n",
    "plt.show()"
   ]
  },
  {
   "cell_type": "code",
   "execution_count": 140,
   "metadata": {},
   "outputs": [
    {
     "data": {
      "text/plain": [
       "False"
      ]
     },
     "execution_count": 140,
     "metadata": {},
     "output_type": "execute_result"
    }
   ],
   "source": [
    "l = [None, 1]\n",
    "x = None\n",
    "x not in [None, 1]"
   ]
  },
  {
   "cell_type": "code",
   "execution_count": 59,
   "metadata": {},
   "outputs": [],
   "source": [
    "def rateOfDecay(sample):\n",
    "    FINAL = 0 \n",
    "    INITIAL = sample[0]\n",
    "    TIME = 0\n",
    "    for i in range(len(sample)):\n",
    "        if sample[i] == 0:\n",
    "            TIME == i-1\n",
    "            FINAL = sample[i-1]\n",
    "            break\n",
    "            \n",
    "    rate = -(((FINAL/INITIAL)**1/TIME)-1)\n",
    "    return rate\n",
    "    "
   ]
  },
  {
   "cell_type": "code",
   "execution_count": null,
   "metadata": {},
   "outputs": [],
   "source": [
    "FINAL = 0 \n",
    "INITIAL = sample[0]\n",
    "TIME = 0\n",
    "    \n",
    "rate = -(((FINAL/INITIAL)**1/TIME)-1)\n",
    "return rate"
   ]
  },
  {
   "cell_type": "code",
   "execution_count": 60,
   "metadata": {},
   "outputs": [
    {
     "ename": "ZeroDivisionError",
     "evalue": "float division by zero",
     "output_type": "error",
     "traceback": [
      "\u001b[1;31m---------------------------------------------------------------------------\u001b[0m",
      "\u001b[1;31mZeroDivisionError\u001b[0m                         Traceback (most recent call last)",
      "\u001b[1;32m<ipython-input-60-7fefcd4f2aec>\u001b[0m in \u001b[0;36m<module>\u001b[1;34m()\u001b[0m\n\u001b[1;32m----> 1\u001b[1;33m \u001b[0mrateOfDecay\u001b[0m\u001b[1;33m(\u001b[0m\u001b[0mdic2\u001b[0m\u001b[1;33m[\u001b[0m\u001b[1;36m1\u001b[0m\u001b[1;33m]\u001b[0m\u001b[1;33m)\u001b[0m\u001b[1;33m\u001b[0m\u001b[0m\n\u001b[0m",
      "\u001b[1;32m<ipython-input-59-6609d94bfc2c>\u001b[0m in \u001b[0;36mrateOfDecay\u001b[1;34m(sample)\u001b[0m\n\u001b[0;32m      9\u001b[0m             \u001b[1;32mbreak\u001b[0m\u001b[1;33m\u001b[0m\u001b[0m\n\u001b[0;32m     10\u001b[0m \u001b[1;33m\u001b[0m\u001b[0m\n\u001b[1;32m---> 11\u001b[1;33m     \u001b[0mrate\u001b[0m \u001b[1;33m=\u001b[0m \u001b[1;33m-\u001b[0m\u001b[1;33m(\u001b[0m\u001b[1;33m(\u001b[0m\u001b[1;33m(\u001b[0m\u001b[0mFINAL\u001b[0m\u001b[1;33m/\u001b[0m\u001b[0mINITIAL\u001b[0m\u001b[1;33m)\u001b[0m\u001b[1;33m**\u001b[0m\u001b[1;36m1\u001b[0m\u001b[1;33m/\u001b[0m\u001b[0mTIME\u001b[0m\u001b[1;33m)\u001b[0m\u001b[1;33m-\u001b[0m\u001b[1;36m1\u001b[0m\u001b[1;33m)\u001b[0m\u001b[1;33m\u001b[0m\u001b[0m\n\u001b[0m\u001b[0;32m     12\u001b[0m     \u001b[1;32mreturn\u001b[0m \u001b[0mrate\u001b[0m\u001b[1;33m\u001b[0m\u001b[0m\n\u001b[0;32m     13\u001b[0m \u001b[1;33m\u001b[0m\u001b[0m\n",
      "\u001b[1;31mZeroDivisionError\u001b[0m: float division by zero"
     ]
    }
   ],
   "source": [
    "rateOfDecay(dic2[1])"
   ]
  },
  {
   "cell_type": "code",
   "execution_count": 62,
   "metadata": {},
   "outputs": [
    {
     "data": {
      "text/plain": [
       "[171471,\n",
       " 87250.0,\n",
       " 3029,\n",
       " 3323.0,\n",
       " 3617,\n",
       " 5654,\n",
       " 5090,\n",
       " 4369,\n",
       " 2679,\n",
       " 885,\n",
       " 249,\n",
       " 30,\n",
       " 3,\n",
       " 0,\n",
       " 0,\n",
       " 0,\n",
       " 0,\n",
       " 0,\n",
       " 0,\n",
       " 0,\n",
       " 0,\n",
       " 0,\n",
       " 0,\n",
       " 0,\n",
       " 0,\n",
       " 0,\n",
       " 0,\n",
       " 0,\n",
       " 0,\n",
       " 0,\n",
       " 0,\n",
       " 0,\n",
       " 0,\n",
       " 0,\n",
       " 0,\n",
       " 0]"
      ]
     },
     "execution_count": 62,
     "metadata": {},
     "output_type": "execute_result"
    }
   ],
   "source": [
    "dic2[1]"
   ]
  },
  {
   "cell_type": "code",
   "execution_count": 73,
   "metadata": {},
   "outputs": [],
   "source": [
    "import matplotlib.pyplot as plt\n",
    "plt.plot([1,2,3,4,7])\n",
    "plt.ylabel('some numbers')\n",
    "\n",
    "plt.draw()\n",
    "\n",
    "plt.savefig(\"f2\", dpi=100)"
   ]
  },
  {
   "cell_type": "code",
   "execution_count": 74,
   "metadata": {},
   "outputs": [],
   "source": [
    "import numpy as np\n",
    "\n",
    "import pandas as pd"
   ]
  },
  {
   "cell_type": "code",
   "execution_count": 133,
   "metadata": {},
   "outputs": [
    {
     "data": {
      "image/png": "[encoded data removed]",
      "text/plain": [
       "<matplotlib.figure.Figure at 0x57f3930>"
      ]
     },
     "metadata": {},
     "output_type": "display_data"
    },
    {
     "data": {
      "image/png": "[encoded data removed]",
      "text/plain": [
       "<matplotlib.figure.Figure at 0xb067db0>"
      ]
     },
     "metadata": {},
     "output_type": "display_data"
    },
    {
     "name": "stdout",
     "output_type": "stream",
     "text": [
      "452119 0.9896996144820279\n",
      "4657 0.8234915181447283\n",
      "1 0.0\n",
      "1 0.0\n",
      "1 0.0\n",
      "1 0.0\n",
      "232 -6.086206896551724\n",
      "1644 -4.192822384428224\n",
      "3617 -0.5631739010229472\n",
      "5654 0.09975238769013088\n",
      "5090 0.14165029469548135\n",
      "4369 0.3868162050812543\n",
      "2679 0.6696528555431132\n",
      "885 0.7186440677966102\n",
      "249 0.8795180722891566\n",
      "30 0.9\n",
      "3 1.0\n",
      "2734 0.6847110460863204\n",
      "862 0.505800464037123\n",
      "426 0.38028169014084506\n",
      "264 0.44696969696969696\n",
      "146 0.5205479452054794\n",
      "70 0.1\n",
      "63 0.015873015873015872\n",
      "18 0.8333333333333334\n",
      "3 -0.3333333333333333\n",
      "4 0.25\n",
      "3 0.0\n",
      "3 0.6666666666666666\n",
      "1 0.0\n",
      "439986 0.9736423431654644\n",
      "11597 0.6840562214365784\n",
      "3664 0.6588427947598253\n",
      "1250 0.7144\n",
      "357 0.5686274509803921\n",
      "154 0.5324675324675324\n",
      "72 0.6388888888888888\n",
      "26 0.5\n",
      "13 0.46153846153846156\n",
      "7 0.42857142857142855\n",
      "4 0.25\n",
      "2 0.5\n",
      "1 0.0\n",
      "1 0.0\n",
      "1 0.0\n",
      "1 0.0\n",
      "111581 0.978490961722874\n",
      "2400 0.8045833333333333\n",
      "469 0.4968017057569296\n",
      "236 -0.2288135593220339\n",
      "290 0.696551724137931\n",
      "88 0.6136363636363636\n",
      "34 0.6764705882352942\n",
      "11 0.5454545454545454\n",
      "5 0.4\n",
      "3 0.3333333333333333\n",
      "178594 0.9900164619192134\n",
      "1783 0.8609085810431857\n",
      "248 0.7741935483870968\n",
      "56 0.6964285714285714\n",
      "17 0.5294117647058824\n",
      "8 0.5\n",
      "4 0.5\n",
      "2 1.0\n",
      "488811 0.9755345112937311\n",
      "11959 0.8724809766702901\n",
      "1525 0.5324590163934426\n",
      "713 0.4053295932678822\n",
      "424 -0.17688679245283018\n",
      "499 -0.4589178356713427\n",
      "81 -0.08641975308641975\n",
      "88 0.7159090909090909\n",
      "25 0.8\n",
      "5 0.6\n",
      "69 0.6521739130434783\n",
      "24 0.6666666666666666\n",
      "8 0.5\n",
      "4 1.0\n",
      "19 0.3684210526315789\n",
      "12 0.4166666666666667\n",
      "7 0.2857142857142857\n",
      "5 0.4\n",
      "3 0.3333333333333333\n",
      "2 0.0\n",
      "2 1.0\n",
      "52 0.7692307692307693\n",
      "12 0.6666666666666666\n",
      "4 0.25\n",
      "3 0.3333333333333333\n",
      "2 1.0\n",
      "274392 0.9890302924283507\n",
      "3010 0.807641196013289\n",
      "579 0.7184801381692574\n",
      "163 0.6134969325153374\n",
      "63 0.47619047619047616\n",
      "33 0.48484848484848486\n",
      "17 0.35294117647058826\n",
      "11 0.45454545454545453\n",
      "6 0.3333333333333333\n",
      "4 0.25\n",
      "242245 0.9859068298623295\n",
      "3414 0.8201523140011716\n",
      "614 0.5195439739413681\n",
      "295 0.27796610169491526\n",
      "107 0.29906542056074764\n",
      "75 0.16\n",
      "63 0.5079365079365079\n",
      "31 0.45161290322580644\n",
      "17 0.17647058823529413\n",
      "14 0.42857142857142855\n",
      "8 0.5\n",
      "4 -0.25\n",
      "5 0.6\n",
      "2 1.0\n",
      "15 1.0\n",
      "565701 0.3949719021179033\n",
      "342265 0.952200780097293\n",
      "16360 0.8790342298288508\n",
      "1979 0.7453259221829207\n",
      "504 0.6388888888888888\n",
      "182 0.5494505494505495\n",
      "12 0.3333333333333333\n",
      "8 0.375\n",
      "2 0.0\n",
      "2 1.0\n",
      "79997 0.7400152505718964\n",
      "20798 0.906577555534186\n",
      "1943 0.8703036541430778\n",
      "252 0.7698412698412699\n",
      "58 0.6724137931034483\n",
      "19 0.5789473684210527\n",
      "8 0.375\n",
      "5 0.4\n",
      "3 0.3333333333333333\n",
      "2 1.0\n",
      "1669 -0.14679448771719592\n",
      "1914 -1.316614420062696\n",
      "4434 -0.3168696436626071\n",
      "32 0.75\n",
      "2 1.0\n",
      "151911 0.6776467800225132\n",
      "48969 0.6679327737956666\n",
      "388 0.7087628865979382\n",
      "113 0.6637168141592921\n",
      "29 -0.13793103448275862\n",
      "33 -0.36363636363636365\n",
      "13 0.6153846153846154\n",
      "5 0.6\n",
      "2 1.0\n",
      "19991 0.7223250462708218\n",
      "5551 0.3318321023239056\n",
      "3709 0.038015637638177405\n",
      "3568 0.797645739910314\n",
      "722 0.8476454293628809\n",
      "110 0.5636363636363636\n",
      "24 0.25\n",
      "18 0.16666666666666666\n",
      "15 0.4666666666666667\n",
      "8 0.375\n",
      "20727 0.06074202730737685\n",
      "15922 0.9575430222333877\n",
      "676 0.7855029585798816\n",
      "145 0.7310344827586207\n",
      "39 0.5384615384615384\n",
      "18 0.5555555555555556\n",
      "8 0.375\n",
      "5 0.4\n",
      "3 0.3333333333333333\n",
      "2 1.0\n",
      "782 0.9923273657289002\n",
      "6 1.0\n",
      "121768 -0.7982721240391565\n",
      "218972 0.9600222859543686\n",
      "8754 0.5453506968243089\n",
      "3980 0.16407035175879398\n",
      "3327 0.4803125939284641\n",
      "1729 0.32967032967032966\n",
      "1159 0.4719585849870578\n",
      "612 0.4019607843137255\n",
      "366 0.46174863387978143\n",
      "197 0.9644670050761421\n",
      "7 1.0\n",
      "383 -1.164490861618799\n",
      "108018 0.9434908996648707\n",
      "6104 0.5425950196592398\n",
      "2792 0.8588825214899714\n",
      "394 0.9238578680203046\n",
      "30 0.6\n",
      "12 0.5833333333333334\n",
      "5 0.6\n",
      "2 1.0\n",
      "40428 0.197091124962897\n",
      "32460 0.8579174368453482\n",
      "4612 0.5433651344319167\n",
      "2106 0.6101614434947769\n",
      "821 0.20584652862362973\n",
      "652 0.2223926380368098\n",
      "507 0.14003944773175542\n",
      "436 -0.08486238532110092\n",
      "473 0.13742071881606766\n",
      "408 0.44362745098039214\n",
      "227 0.1145374449339207\n",
      "201 0.0845771144278607\n",
      "184 -0.06521739130434782\n",
      "23 0.8260869565217391\n",
      "4 1.0\n",
      "96884 0.9582903265761117\n",
      "4041 0.593170007423905\n",
      "1644 0.6228710462287105\n",
      "620 0.9903225806451613\n",
      "6 0.6666666666666666\n",
      "2 1.0\n",
      "29455 0.91933457817009\n",
      "2376 0.9528619528619529\n",
      "112 0.6964285714285714\n",
      "34 0.23529411764705882\n",
      "26 0.5769230769230769\n",
      "11 0.18181818181818182\n",
      "9 0.4444444444444444\n",
      "5 0.4\n",
      "3 1.0\n",
      "7189 -1.20086242871053\n",
      "20778 0.5470208874771393\n",
      "9412 0.897046323841904\n",
      "969 0.936016511867905\n",
      "3 1.0\n",
      "73320 0.9817785051827606\n",
      "1336 0.8914670658682635\n",
      "145 0.7034482758620689\n",
      "43 0.5813953488372093\n",
      "18 0.6666666666666666\n",
      "6 0.5\n",
      "3 1.0\n",
      "166859 -0.05616118998675528\n",
      "176230 0.7857969698689213\n",
      "37749 0.9622506556465072\n",
      "1425 0.8435087719298245\n",
      "223 0.7085201793721974\n",
      "65 0.5692307692307692\n",
      "28 0.6071428571428571\n",
      "11 0.45454545454545453\n",
      "6 0.5\n",
      "3 1.0\n",
      "14 0.7142857142857143\n",
      "631112 0.970661308927734\n",
      "18516 0.7708468351695831\n",
      "4243 0.758189959934009\n",
      "1026 0.6949317738791423\n",
      "313 0.36421725239616615\n",
      "199 -0.02512562814070352\n",
      "204 -0.024509803921568627\n",
      "209 0.2679425837320574\n",
      "153 0.7516339869281046\n",
      "11964 0.9623871614844534\n",
      "450 0.8911111111111111\n",
      "49 0.7959183673469388\n",
      "10 1.0\n",
      "773545 0.9914588033016826\n",
      "6607 0.8329044952323293\n",
      "1104 0.7608695652173914\n",
      "264 0.625\n",
      "99 0.4444444444444444\n",
      "41 0.8048780487804879\n",
      "8 1.0\n",
      "358977 -0.13498357833510224\n",
      "407433 0.8122660658316827\n",
      "76489 0.9634457242217835\n",
      "2796 0.7696709585121603\n",
      "644 0.7018633540372671\n",
      "192 0.546875\n",
      "87 0.4367816091954023\n",
      "49 0.4489795918367347\n",
      "27 0.4074074074074074\n",
      "16 0.4375\n",
      "9 0.3333333333333333\n",
      "6 0.5\n",
      "3 0.3333333333333333\n",
      "2 1.0\n",
      "160 0.98125\n",
      "3 1.0\n"
     ]
    }
   ],
   "source": [
    "s = pd.Series(dic2[1])\n",
    "s\n",
    "\n",
    "dic3 = {}\n",
    "for i in range(1, len(dic2) +1):\n",
    "    value = dic2.get(i)\n",
    "    if value != None:\n",
    "        dic3[i] = dic2[i][2:]\n",
    "l = dic2[1]\n",
    "l\n",
    "df = pd.DataFrame(dic3)\n",
    "df\n",
    "# plt.plot(df)\n",
    "# plt.show()\n",
    "\n",
    "plt.plot(np.unique(xAx), np.poly1d(np.polyfit(xAx, yAx, 1))(np.unique(xAx)))\n",
    "plt.show()\n",
    "\n",
    "plt.plot(xAx, yAx, 'ro')\n",
    "#plt.axis([0, 6, 0, 20])\n",
    "plt.show()\n",
    "\n",
    "for i in range(len(xAx)):\n",
    "    print(xAx[i], yAx[i])\n"
   ]
  },
  {
   "cell_type": "code",
   "execution_count": 58,
   "metadata": {},
   "outputs": [
    {
     "name": "stderr",
     "output_type": "stream",
     "text": [
      "c:\\users\\brian\\appdata\\local\\programs\\python\\python35-32\\lib\\site-packages\\ipykernel_launcher.py:1: RuntimeWarning: divide by zero encountered in log\n",
      "  \"\"\"Entry point for launching an IPython kernel.\n"
     ]
    },
    {
     "data": {
      "text/plain": [
       "-inf"
      ]
     },
     "execution_count": 58,
     "metadata": {},
     "output_type": "execute_result"
    }
   ],
   "source": [
    "log(0)"
   ]
  },
  {
   "cell_type": "code",
   "execution_count": null,
   "metadata": {},
   "outputs": [],
   "source": []
  },
  {
   "cell_type": "code",
   "execution_count": 47,
   "metadata": {},
   "outputs": [],
   "source": [
    "with open('converttxt.txt') as f:\n",
    "   data = [line.split() for line in f.readlines()]\n",
    "   \n",
    "      \n",
    "data = stringToArr(data)\n",
    "for sample in data:\n",
    "    sample = clearRecurrence(sample)\n",
    "    \n",
    "#cleanData = [sanatiseSample(d) for d in data if tooManyBlanks(d) ]\n",
    "\n",
    "cleanData = clean"
   ]
  },
  {
   "cell_type": "code",
   "execution_count": 48,
   "metadata": {},
   "outputs": [],
   "source": [
    "hVals= highestValuesInEachSample(cleanData)"
   ]
  },
  {
   "cell_type": "code",
   "execution_count": 49,
   "metadata": {},
   "outputs": [
    {
     "data": {
      "text/plain": [
       "[773545,\n",
       " 6607,\n",
       " 1104,\n",
       " 264,\n",
       " 99,\n",
       " 55,\n",
       " 55,\n",
       " 50,\n",
       " 46,\n",
       " 41,\n",
       " 0,\n",
       " 0,\n",
       " 0,\n",
       " 0,\n",
       " 0,\n",
       " 0,\n",
       " 0,\n",
       " 0,\n",
       " 0,\n",
       " 0,\n",
       " 0,\n",
       " 0,\n",
       " 0,\n",
       " 0,\n",
       " 0,\n",
       " 0,\n",
       " 0,\n",
       " 0,\n",
       " 0,\n",
       " 0,\n",
       " 0,\n",
       " 0,\n",
       " 0,\n",
       " 0,\n",
       " 0,\n",
       " 0]"
      ]
     },
     "execution_count": 49,
     "metadata": {},
     "output_type": "execute_result"
    }
   ],
   "source": [
    "cleanData[hVals.index(min(hVals))]\n",
    "cleanData[hVals.index(max(hVals))]"
   ]
  },
  {
   "cell_type": "markdown",
   "metadata": {},
   "source": [
    "Because the data all begins at different weeks, levels, we need a way for the data to be refactored onto the same time frame.\n",
    "\n",
    "If one data set has: 50, 35, 19, 10, 2 0\n",
    "    And another has: 19, 13, 7, 3, 1, 0\n",
    "    \n",
    "    The should go to: 50, 35, 19, 10, 2 0\n",
    "                    : Na, Na, 19, 13, 7, 3, 1, 0\n",
    "                    \n",
    "                    \n",
    "                    \n",
    "So: \n",
    "    Find the set with the biggest sample. This is our reference.\n",
    "    For every other set:\n",
    "        Find which sample on the referenceSet is closest to the first number of the new set.\n",
    "        Push None to the start of the set so that their indexs then match."
   ]
  },
  {
   "cell_type": "code",
   "execution_count": 50,
   "metadata": {},
   "outputs": [],
   "source": [
    "cleanData2 = cleanData.copy()\n"
   ]
  },
  {
   "cell_type": "code",
   "execution_count": 93,
   "metadata": {},
   "outputs": [
    {
     "data": {
      "text/plain": [
       "[36,\n",
       " 36,\n",
       " 36,\n",
       " 36,\n",
       " 36,\n",
       " 36,\n",
       " 36,\n",
       " 36,\n",
       " 36,\n",
       " 36,\n",
       " 36,\n",
       " 36,\n",
       " 36,\n",
       " 36,\n",
       " 36,\n",
       " 36,\n",
       " 36,\n",
       " 36,\n",
       " 36,\n",
       " 36,\n",
       " 36,\n",
       " 36,\n",
       " 36,\n",
       " 36,\n",
       " 36,\n",
       " 36,\n",
       " 36,\n",
       " 36,\n",
       " 36,\n",
       " 36]"
      ]
     },
     "execution_count": 93,
     "metadata": {},
     "output_type": "execute_result"
    }
   ],
   "source": []
  },
  {
   "cell_type": "code",
   "execution_count": null,
   "metadata": {},
   "outputs": [],
   "source": [
    "decayRates = []\n",
    "for sample in cleanData2:\n",
    "    decayRate\n",
    "    for s in sample:\n",
    "        "
   ]
  },
  {
   "cell_type": "code",
   "execution_count": 51,
   "metadata": {},
   "outputs": [],
   "source": [
    "def putSamplesOnSameTimeline(cleanData):\n",
    "    \n",
    "    hVals = highestValuesInEachSample(cleanData)\n",
    "    indexOfLargestSet = hVals.index(max(hVals)) #hVals needs to be called at the same time so that this works\n",
    "    #newSet = [cleanData.]] \n",
    "    #Was going to do this in a new set but we can do it in place.\n",
    "    #what about times where it increases? Fine, that should be taken into account as well I suppose?\n",
    "\n",
    "    #sampleIndex = 0\n",
    "    referenceSample = cleanData[indexOfLargestSet]\n",
    "    \n",
    "    for index in range(len(cleanData)):\n",
    "        #For every sample in the DataSet, find how many weeks it is from matching the values in the reference set.\n",
    "        sample = cleanData[index]\n",
    "        largest = max(sample) #you dont want the tailing zeros to match...\n",
    "        indexOfClosest = 0\n",
    "        smallestDifference = abs(referenceSample[0] - sample[0])\n",
    "        for sampleIndex in range(len(referenceSample)):\n",
    "\n",
    "            #Goes through each index. Only goes through for the length of the smallest list, to avoid out of range error.\n",
    "            if abs(referenceSample[sampleIndex] - largest) < smallestDifference:\n",
    "                smallestDifference = abs(referenceSample[sampleIndex] - sample[sampleIndex])\n",
    "                indexOfClosest = sampleIndex\n",
    "\n",
    "        for i in range(indexOfClosest):\n",
    "             cleanData[index] = [None] + cleanData[index]\n",
    "    return cleanData\n",
    "\n",
    "\n",
    "cleanData = cleanData2.copy()\n",
    "normalisedData = putSamplesOnSameTimeline(cleanData)\n",
    "        \n",
    "                             \n",
    "                             \n",
    "        \n"
   ]
  },
  {
   "cell_type": "code",
   "execution_count": 96,
   "metadata": {},
   "outputs": [
    {
     "data": {
      "text/plain": [
       "[[None,\n",
       "  None,\n",
       "  None,\n",
       "  None,\n",
       "  None,\n",
       "  None,\n",
       "  None,\n",
       "  None,\n",
       "  None,\n",
       "  69,\n",
       "  24,\n",
       "  8,\n",
       "  4,\n",
       "  0,\n",
       "  0,\n",
       "  0,\n",
       "  0,\n",
       "  0,\n",
       "  0,\n",
       "  0,\n",
       "  0,\n",
       "  0,\n",
       "  0,\n",
       "  0,\n",
       "  0,\n",
       "  0,\n",
       "  0,\n",
       "  0,\n",
       "  0,\n",
       "  0,\n",
       "  0,\n",
       "  0,\n",
       "  0,\n",
       "  0,\n",
       "  0,\n",
       "  0,\n",
       "  0,\n",
       "  0,\n",
       "  0,\n",
       "  0,\n",
       "  0,\n",
       "  0,\n",
       "  0,\n",
       "  0,\n",
       "  0],\n",
       " [None,\n",
       "  None,\n",
       "  None,\n",
       "  None,\n",
       "  None,\n",
       "  None,\n",
       "  None,\n",
       "  None,\n",
       "  None,\n",
       "  None,\n",
       "  19,\n",
       "  12,\n",
       "  7,\n",
       "  5,\n",
       "  3,\n",
       "  0,\n",
       "  0,\n",
       "  0,\n",
       "  0,\n",
       "  0,\n",
       "  0,\n",
       "  0,\n",
       "  0,\n",
       "  0,\n",
       "  0,\n",
       "  0,\n",
       "  0,\n",
       "  0,\n",
       "  0,\n",
       "  0,\n",
       "  0,\n",
       "  0,\n",
       "  0,\n",
       "  0,\n",
       "  0,\n",
       "  0,\n",
       "  0,\n",
       "  0,\n",
       "  0,\n",
       "  0,\n",
       "  0,\n",
       "  0,\n",
       "  0,\n",
       "  0,\n",
       "  0,\n",
       "  0],\n",
       " [0,\n",
       "  0,\n",
       "  0,\n",
       "  0,\n",
       "  0,\n",
       "  0,\n",
       "  0,\n",
       "  0,\n",
       "  0,\n",
       "  0,\n",
       "  0,\n",
       "  0,\n",
       "  0,\n",
       "  0,\n",
       "  0,\n",
       "  0,\n",
       "  0,\n",
       "  0,\n",
       "  0,\n",
       "  0,\n",
       "  0,\n",
       "  0,\n",
       "  0,\n",
       "  0,\n",
       "  0,\n",
       "  0,\n",
       "  0,\n",
       "  0,\n",
       "  0,\n",
       "  0,\n",
       "  0,\n",
       "  0,\n",
       "  0,\n",
       "  0,\n",
       "  0,\n",
       "  0,\n",
       "  0],\n",
       " [0,\n",
       "  0,\n",
       "  0,\n",
       "  0,\n",
       "  0,\n",
       "  0,\n",
       "  0,\n",
       "  0,\n",
       "  0,\n",
       "  0,\n",
       "  0,\n",
       "  0,\n",
       "  0,\n",
       "  0,\n",
       "  0,\n",
       "  0,\n",
       "  0,\n",
       "  0,\n",
       "  0,\n",
       "  0,\n",
       "  0,\n",
       "  0,\n",
       "  0,\n",
       "  0,\n",
       "  0,\n",
       "  0,\n",
       "  0,\n",
       "  0,\n",
       "  0,\n",
       "  0,\n",
       "  0,\n",
       "  0,\n",
       "  0,\n",
       "  0,\n",
       "  0,\n",
       "  0,\n",
       "  0]]"
      ]
     },
     "execution_count": 96,
     "metadata": {},
     "output_type": "execute_result"
    }
   ],
   "source": [
    "l = [len(sample) for sample in normalisedData]\n",
    "l\n",
    "normalisedData[5:9]"
   ]
  },
  {
   "cell_type": "code",
   "execution_count": 92,
   "metadata": {},
   "outputs": [
    {
     "data": {
      "text/plain": [
       "array([[2, 4, 0],\n",
       "       [1, 3, None]], dtype=object)"
      ]
     },
     "execution_count": 92,
     "metadata": {},
     "output_type": "execute_result"
    }
   ],
   "source": [
    "patient = normalisedData[0]\n",
    "nd = cleanSet(normalisedData)\n",
    "a = np.array(normalisedData)\n",
    "b = np.array(normalisedData[:7])\n",
    "# plt.plot(a[0])\n",
    "# plt.show()\n",
    "nd\n",
    "c = np.array([normalisedData[0], normalisedData[1]])\n",
    "c\n",
    "\n",
    "s1 = normalisedData[0]\n",
    "s2 = normalisedData[1]\n",
    "s3 = normalisedData[2]\n",
    "\n",
    "d = np.array([s1, s2, s3])\n",
    "\n",
    "s1\n",
    "myarray = np.asarray(s1)\n",
    "d = np.array([[1,2,3],myarray])\n",
    "d\n",
    "A = np.array([[2, 4, 0], [1, 3, 2]])\n",
    "a = [2, 4, 0]\n",
    "b = [1, 3, None]\n",
    "A = np.array([a,b])\n",
    "A"
   ]
  },
  {
   "cell_type": "code",
   "execution_count": 57,
   "metadata": {},
   "outputs": [
    {
     "data": {
      "text/plain": [
       "37"
      ]
     },
     "execution_count": 57,
     "metadata": {},
     "output_type": "execute_result"
    }
   ],
   "source": [
    "\n",
    "b = ni"
   ]
  },
  {
   "cell_type": "code",
   "execution_count": 37,
   "metadata": {},
   "outputs": [
    {
     "ename": "NameError",
     "evalue": "name 'normalisedData' is not defined",
     "output_type": "error",
     "traceback": [
      "\u001b[1;31m---------------------------------------------------------------------------\u001b[0m",
      "\u001b[1;31mNameError\u001b[0m                                 Traceback (most recent call last)",
      "\u001b[1;32m<ipython-input-37-bf928b28f922>\u001b[0m in \u001b[0;36m<module>\u001b[1;34m()\u001b[0m\n\u001b[1;32m----> 1\u001b[1;33m \u001b[0mnd\u001b[0m \u001b[1;33m=\u001b[0m \u001b[0mnormalisedData\u001b[0m\u001b[1;33m\u001b[0m\u001b[0m\n\u001b[0m",
      "\u001b[1;31mNameError\u001b[0m: name 'normalisedData' is not defined"
     ]
    }
   ],
   "source": [
    "nd = normalisedData"
   ]
  },
  {
   "cell_type": "code",
   "execution_count": 46,
   "metadata": {},
   "outputs": [],
   "source": [
    "s = '96884,4041,1644,620,6,2,0,0,0,0,0,0,0,0,0,0,0,0,0,0,0,0,0,0,1194,16,0,0,,,,,,,,'\n",
    "arr = prepArr(s)"
   ]
  },
  {
   "cell_type": "code",
   "execution_count": 47,
   "metadata": {},
   "outputs": [
    {
     "data": {
      "image/png": "[encoded data removed]",
      "text/plain": [
       "<matplotlib.figure.Figure at 0xa5c1eb0>"
      ]
     },
     "metadata": {},
     "output_type": "display_data"
    }
   ],
   "source": [
    "plt.plot(arr)\n",
    "plt.ylabel('human chorionic gonadotropin')\n",
    "plt.xlabel('week')\n",
    "plt.show()"
   ]
  },
  {
   "cell_type": "code",
   "execution_count": 48,
   "metadata": {},
   "outputs": [
    {
     "data": {
      "image/png": "[encoded data removed]",
      "text/plain": [
       "<matplotlib.figure.Figure at 0xa5c1bb0>"
      ]
     },
     "metadata": {},
     "output_type": "display_data"
    }
   ],
   "source": [
    "\n",
    "plt.plot(arr)\n",
    "plt.plot(arr1)\n",
    "plt.plot(arr2)\n",
    "plt.plot(arr3)\n",
    "plt.ylabel('human chorionic gonadotropin')\n",
    "plt.xlabel('week')\n",
    "plt.show()"
   ]
  },
  {
   "cell_type": "code",
   "execution_count": 49,
   "metadata": {},
   "outputs": [
    {
     "data": {
      "text/plain": [
       "[<matplotlib.lines.Line2D at 0x7ddc1b0>]"
      ]
     },
     "execution_count": 49,
     "metadata": {},
     "output_type": "execute_result"
    }
   ],
   "source": [
    "plt.semilogx(arr)"
   ]
  },
  {
   "cell_type": "code",
   "execution_count": 50,
   "metadata": {},
   "outputs": [
    {
     "data": {
      "image/png": "[encoded data removed]",
      "text/plain": [
       "<matplotlib.figure.Figure at 0xa61e230>"
      ]
     },
     "metadata": {},
     "output_type": "display_data"
    }
   ],
   "source": [
    "plt.show()"
   ]
  },
  {
   "cell_type": "code",
   "execution_count": 80,
   "metadata": {},
   "outputs": [
    {
     "ename": "TypeError",
     "evalue": "unorderable types: NoneType() <= int()",
     "output_type": "error",
     "traceback": [
      "\u001b[1;31m---------------------------------------------------------------------------\u001b[0m",
      "\u001b[1;31mTypeError\u001b[0m                                 Traceback (most recent call last)",
      "\u001b[1;32m<ipython-input-80-d99a1fb6a639>\u001b[0m in \u001b[0;36m<module>\u001b[1;34m()\u001b[0m\n\u001b[0;32m      7\u001b[0m \u001b[0mdata\u001b[0m \u001b[1;33m=\u001b[0m \u001b[0mstringToArr\u001b[0m\u001b[1;33m(\u001b[0m\u001b[0mdata\u001b[0m\u001b[1;33m)\u001b[0m\u001b[1;33m\u001b[0m\u001b[0m\n\u001b[0;32m      8\u001b[0m \u001b[1;32mfor\u001b[0m \u001b[0msample\u001b[0m \u001b[1;32min\u001b[0m \u001b[0mdata\u001b[0m\u001b[1;33m:\u001b[0m\u001b[1;33m\u001b[0m\u001b[0m\n\u001b[1;32m----> 9\u001b[1;33m     \u001b[0msample\u001b[0m \u001b[1;33m=\u001b[0m \u001b[0mclearRecurrence\u001b[0m\u001b[1;33m(\u001b[0m\u001b[0msample\u001b[0m\u001b[1;33m)\u001b[0m\u001b[1;33m\u001b[0m\u001b[0m\n\u001b[0m\u001b[0;32m     10\u001b[0m \u001b[0mdata\u001b[0m\u001b[1;33m\u001b[0m\u001b[0m\n",
      "\u001b[1;32m<ipython-input-79-3818f872da21>\u001b[0m in \u001b[0;36mclearRecurrence\u001b[1;34m(sample)\u001b[0m\n\u001b[0;32m     33\u001b[0m     \u001b[1;32mfor\u001b[0m \u001b[0mi\u001b[0m \u001b[1;32min\u001b[0m \u001b[0mrange\u001b[0m\u001b[1;33m(\u001b[0m\u001b[0mlen\u001b[0m\u001b[1;33m(\u001b[0m\u001b[0msample\u001b[0m\u001b[1;33m)\u001b[0m\u001b[1;33m)\u001b[0m\u001b[1;33m:\u001b[0m\u001b[1;33m\u001b[0m\u001b[0m\n\u001b[0;32m     34\u001b[0m         \u001b[1;32mif\u001b[0m \u001b[0mflag\u001b[0m\u001b[1;33m:\u001b[0m\u001b[1;33m\u001b[0m\u001b[0m\n\u001b[1;32m---> 35\u001b[1;33m             \u001b[0msample\u001b[0m\u001b[1;33m[\u001b[0m\u001b[0mi\u001b[0m\u001b[1;33m]\u001b[0m \u001b[1;33m<=\u001b[0m \u001b[1;36m3\u001b[0m\u001b[1;33m\u001b[0m\u001b[0m\n\u001b[0m\u001b[0;32m     36\u001b[0m         \u001b[1;32melif\u001b[0m \u001b[0msample\u001b[0m\u001b[1;33m[\u001b[0m\u001b[0mi\u001b[0m\u001b[1;33m]\u001b[0m \u001b[1;33m==\u001b[0m \u001b[1;36m0\u001b[0m\u001b[1;33m:\u001b[0m\u001b[1;33m\u001b[0m\u001b[0m\n\u001b[0;32m     37\u001b[0m             \u001b[0mflag\u001b[0m \u001b[1;33m=\u001b[0m \u001b[1;32mTrue\u001b[0m\u001b[1;33m\u001b[0m\u001b[0m\n",
      "\u001b[1;31mTypeError\u001b[0m: unorderable types: NoneType() <= int()"
     ]
    }
   ],
   "source": [
    "\n"
   ]
  },
  {
   "cell_type": "code",
   "execution_count": 181,
   "metadata": {},
   "outputs": [
    {
     "ename": "NameError",
     "evalue": "name 'prepArr' is not defined",
     "output_type": "error",
     "traceback": [
      "\u001b[1;31m---------------------------------------------------------------------------\u001b[0m",
      "\u001b[1;31mNameError\u001b[0m                                 Traceback (most recent call last)",
      "\u001b[1;32m<ipython-input-181-69d208d972bf>\u001b[0m in \u001b[0;36m<module>\u001b[1;34m()\u001b[0m\n\u001b[0;32m      3\u001b[0m \u001b[1;31m#out = []\u001b[0m\u001b[1;33m\u001b[0m\u001b[1;33m\u001b[0m\u001b[0m\n\u001b[0;32m      4\u001b[0m \u001b[1;32mfor\u001b[0m \u001b[0ml\u001b[0m \u001b[1;32min\u001b[0m \u001b[0mdata\u001b[0m\u001b[1;33m:\u001b[0m\u001b[1;33m\u001b[0m\u001b[0m\n\u001b[1;32m----> 5\u001b[1;33m     \u001b[0marr\u001b[0m \u001b[1;33m=\u001b[0m \u001b[0mprepArr\u001b[0m\u001b[1;33m(\u001b[0m\u001b[0ml\u001b[0m\u001b[1;33m[\u001b[0m\u001b[1;36m0\u001b[0m\u001b[1;33m]\u001b[0m\u001b[1;33m)\u001b[0m\u001b[1;33m\u001b[0m\u001b[0m\n\u001b[0m\u001b[0;32m      6\u001b[0m     \u001b[0mplt\u001b[0m\u001b[1;33m.\u001b[0m\u001b[0mplot\u001b[0m\u001b[1;33m(\u001b[0m\u001b[0marr\u001b[0m\u001b[1;33m)\u001b[0m\u001b[1;33m\u001b[0m\u001b[0m\n\u001b[0;32m      7\u001b[0m     \u001b[1;32mfor\u001b[0m \u001b[0mi\u001b[0m \u001b[1;32min\u001b[0m \u001b[0mrange\u001b[0m\u001b[1;33m(\u001b[0m\u001b[0mlen\u001b[0m\u001b[1;33m(\u001b[0m\u001b[0marr\u001b[0m\u001b[1;33m)\u001b[0m\u001b[1;33m)\u001b[0m\u001b[1;33m:\u001b[0m\u001b[1;33m\u001b[0m\u001b[0m\n",
      "\u001b[1;31mNameError\u001b[0m: name 'prepArr' is not defined"
     ]
    }
   ],
   "source": [
    "#data\n",
    "#data[0] = ['7667,,,,3,,,,,,,,,,,,,,,,,,,,,,,,,,,,,,,']\n",
    "#out = []\n",
    "for l in data:\n",
    "    arr = prepArr(l[0])\n",
    "    plt.plot(arr)\n",
    "    for i in range(len(arr)):\n",
    "        out += [[i, arr[i]]]\n",
    "\n",
    "plt.ylabel('human chorionic gonadotropin')\n",
    "plt.xlabel('week')\n",
    "#plt.plot(np.unique(x), np.poly1d(np.polyfit(x, y, 1))(np.unique(x)))\n",
    "plt.show()"
   ]
  },
  {
   "cell_type": "code",
   "execution_count": 39,
   "metadata": {},
   "outputs": [
    {
     "data": {
      "image/png": "[encoded data removed]",
      "text/plain": [
       "<matplotlib.figure.Figure at 0xac5b6b0>"
      ]
     },
     "metadata": {},
     "output_type": "display_data"
    }
   ],
   "source": [
    "for i in out:\n",
    "    \n",
    "    scatter(i[0],i[1])\n",
    "    xlabel('X')\n",
    "    ylabel('Y')\n",
    "    title('My Title')\n",
    "show()"
   ]
  },
  {
   "cell_type": "code",
   "execution_count": 42,
   "metadata": {},
   "outputs": [
    {
     "data": {
      "image/png": "[encoded data removed]",
      "text/plain": [
       "<matplotlib.figure.Figure at 0xaabdbd0>"
      ]
     },
     "metadata": {},
     "output_type": "display_data"
    }
   ],
   "source": [
    "xd = [float(row[0]) for row in out if row[1] != None]\n",
    "yd = [float(row[1]) for row in out if row[1] != None]\n",
    "\n",
    "# sort the data\n",
    "reorder = sorted(range(len(xd)), key = lambda ii: xd[ii])\n",
    "xd = [xd[ii] for ii in reorder]\n",
    "yd = [yd[ii] for ii in reorder]\n",
    "\n",
    "# make the scatter plot\n",
    "plt.scatter(xd, yd, s=30, alpha=0.15, marker='o')\n",
    "\n",
    "# determine best fit line\n",
    "par = np.polyfit(xd, yd, 1, full=True)\n",
    "\n",
    "slope=par[0][0]\n",
    "intercept=par[0][1]\n",
    "xl = [min(xd), max(xd)]\n",
    "yl = [slope*xx + intercept  for xx in xl]\n",
    "\n",
    "# coefficient of determination, plot text\n",
    "variance = np.var(yd)\n",
    "residuals = np.var([(slope*xx + intercept - yy)  for xx,yy in zip(xd,yd)])\n",
    "Rsqr = np.round(1-residuals/variance, decimals=2)\n",
    "plt.text(.9*max(xd)+.1*min(xd),.9*max(yd)+.1*min(yd),'$R^2 = %0.2f$'% Rsqr, fontsize=30)\n",
    "\n",
    "plt.xlabel(\"X Description\")\n",
    "plt.ylabel(\"Y Description\")\n",
    "\n",
    "# error bounds\n",
    "yerr = [abs(slope*xx + intercept - yy)  for xx,yy in zip(xd,yd)]\n",
    "par = np.polyfit(xd, yerr, 2, full=True)\n",
    "\n",
    "yerrUpper = [(xx*slope+intercept)+(par[0][0]*xx**2 + par[0][1]*xx + par[0][2]) for xx,yy in zip(xd,yd)]\n",
    "yerrLower = [(xx*slope+intercept)-(par[0][0]*xx**2 + par[0][1]*xx + par[0][2]) for xx,yy in zip(xd,yd)]\n",
    "\n",
    "plt.plot(xl, yl, '-r')\n",
    "plt.plot(xd, yerrLower, '--r')\n",
    "plt.plot(xd, yerrUpper, '--r')\n",
    "plt.show()"
   ]
  },
  {
   "cell_type": "code",
   "execution_count": 40,
   "metadata": {},
   "outputs": [
    {
     "data": {
      "text/plain": [
       "2"
      ]
     },
     "execution_count": 40,
     "metadata": {},
     "output_type": "execute_result"
    }
   ],
   "source": [
    "1 + 1"
   ]
  },
  {
   "cell_type": "code",
   "execution_count": 53,
   "metadata": {},
   "outputs": [
    {
     "ename": "ValueError",
     "evalue": "setting an array element with a sequence.",
     "output_type": "error",
     "traceback": [
      "\u001b[1;31m---------------------------------------------------------------------------\u001b[0m",
      "\u001b[1;31mValueError\u001b[0m                                Traceback (most recent call last)",
      "\u001b[1;32m<ipython-input-53-f0ee7283683a>\u001b[0m in \u001b[0;36m<module>\u001b[1;34m()\u001b[0m\n\u001b[1;32m----> 1\u001b[1;33m \u001b[0mplt\u001b[0m\u001b[1;33m.\u001b[0m\u001b[0mplot\u001b[0m\u001b[1;33m(\u001b[0m\u001b[0mnormalisedData\u001b[0m\u001b[1;33m)\u001b[0m\u001b[1;33m\u001b[0m\u001b[0m\n\u001b[0m\u001b[0;32m      2\u001b[0m \u001b[0mplt\u001b[0m\u001b[1;33m.\u001b[0m\u001b[0mshow\u001b[0m\u001b[1;33m(\u001b[0m\u001b[1;33m)\u001b[0m\u001b[1;33m\u001b[0m\u001b[0m\n",
      "\u001b[1;32mc:\\users\\brian\\appdata\\local\\programs\\python\\python35-32\\lib\\site-packages\\matplotlib\\pyplot.py\u001b[0m in \u001b[0;36mplot\u001b[1;34m(*args, **kwargs)\u001b[0m\n\u001b[0;32m   3238\u001b[0m                       mplDeprecation)\n\u001b[0;32m   3239\u001b[0m     \u001b[1;32mtry\u001b[0m\u001b[1;33m:\u001b[0m\u001b[1;33m\u001b[0m\u001b[0m\n\u001b[1;32m-> 3240\u001b[1;33m         \u001b[0mret\u001b[0m \u001b[1;33m=\u001b[0m \u001b[0max\u001b[0m\u001b[1;33m.\u001b[0m\u001b[0mplot\u001b[0m\u001b[1;33m(\u001b[0m\u001b[1;33m*\u001b[0m\u001b[0margs\u001b[0m\u001b[1;33m,\u001b[0m \u001b[1;33m**\u001b[0m\u001b[0mkwargs\u001b[0m\u001b[1;33m)\u001b[0m\u001b[1;33m\u001b[0m\u001b[0m\n\u001b[0m\u001b[0;32m   3241\u001b[0m     \u001b[1;32mfinally\u001b[0m\u001b[1;33m:\u001b[0m\u001b[1;33m\u001b[0m\u001b[0m\n\u001b[0;32m   3242\u001b[0m         \u001b[0max\u001b[0m\u001b[1;33m.\u001b[0m\u001b[0m_hold\u001b[0m \u001b[1;33m=\u001b[0m \u001b[0mwashold\u001b[0m\u001b[1;33m\u001b[0m\u001b[0m\n",
      "\u001b[1;32mc:\\users\\brian\\appdata\\local\\programs\\python\\python35-32\\lib\\site-packages\\matplotlib\\__init__.py\u001b[0m in \u001b[0;36minner\u001b[1;34m(ax, *args, **kwargs)\u001b[0m\n\u001b[0;32m   1708\u001b[0m                     warnings.warn(msg % (label_namer, func.__name__),\n\u001b[0;32m   1709\u001b[0m                                   RuntimeWarning, stacklevel=2)\n\u001b[1;32m-> 1710\u001b[1;33m             \u001b[1;32mreturn\u001b[0m \u001b[0mfunc\u001b[0m\u001b[1;33m(\u001b[0m\u001b[0max\u001b[0m\u001b[1;33m,\u001b[0m \u001b[1;33m*\u001b[0m\u001b[0margs\u001b[0m\u001b[1;33m,\u001b[0m \u001b[1;33m**\u001b[0m\u001b[0mkwargs\u001b[0m\u001b[1;33m)\u001b[0m\u001b[1;33m\u001b[0m\u001b[0m\n\u001b[0m\u001b[0;32m   1711\u001b[0m         \u001b[0mpre_doc\u001b[0m \u001b[1;33m=\u001b[0m \u001b[0minner\u001b[0m\u001b[1;33m.\u001b[0m\u001b[0m__doc__\u001b[0m\u001b[1;33m\u001b[0m\u001b[0m\n\u001b[0;32m   1712\u001b[0m         \u001b[1;32mif\u001b[0m \u001b[0mpre_doc\u001b[0m \u001b[1;32mis\u001b[0m \u001b[1;32mNone\u001b[0m\u001b[1;33m:\u001b[0m\u001b[1;33m\u001b[0m\u001b[0m\n",
      "\u001b[1;32mc:\\users\\brian\\appdata\\local\\programs\\python\\python35-32\\lib\\site-packages\\matplotlib\\axes\\_axes.py\u001b[0m in \u001b[0;36mplot\u001b[1;34m(self, *args, **kwargs)\u001b[0m\n\u001b[0;32m   1436\u001b[0m \u001b[1;33m\u001b[0m\u001b[0m\n\u001b[0;32m   1437\u001b[0m         \u001b[1;32mfor\u001b[0m \u001b[0mline\u001b[0m \u001b[1;32min\u001b[0m \u001b[0mself\u001b[0m\u001b[1;33m.\u001b[0m\u001b[0m_get_lines\u001b[0m\u001b[1;33m(\u001b[0m\u001b[1;33m*\u001b[0m\u001b[0margs\u001b[0m\u001b[1;33m,\u001b[0m \u001b[1;33m**\u001b[0m\u001b[0mkwargs\u001b[0m\u001b[1;33m)\u001b[0m\u001b[1;33m:\u001b[0m\u001b[1;33m\u001b[0m\u001b[0m\n\u001b[1;32m-> 1438\u001b[1;33m             \u001b[0mself\u001b[0m\u001b[1;33m.\u001b[0m\u001b[0madd_line\u001b[0m\u001b[1;33m(\u001b[0m\u001b[0mline\u001b[0m\u001b[1;33m)\u001b[0m\u001b[1;33m\u001b[0m\u001b[0m\n\u001b[0m\u001b[0;32m   1439\u001b[0m             \u001b[0mlines\u001b[0m\u001b[1;33m.\u001b[0m\u001b[0mappend\u001b[0m\u001b[1;33m(\u001b[0m\u001b[0mline\u001b[0m\u001b[1;33m)\u001b[0m\u001b[1;33m\u001b[0m\u001b[0m\n\u001b[0;32m   1440\u001b[0m \u001b[1;33m\u001b[0m\u001b[0m\n",
      "\u001b[1;32mc:\\users\\brian\\appdata\\local\\programs\\python\\python35-32\\lib\\site-packages\\matplotlib\\axes\\_base.py\u001b[0m in \u001b[0;36madd_line\u001b[1;34m(self, line)\u001b[0m\n\u001b[0;32m   1757\u001b[0m             \u001b[0mline\u001b[0m\u001b[1;33m.\u001b[0m\u001b[0mset_clip_path\u001b[0m\u001b[1;33m(\u001b[0m\u001b[0mself\u001b[0m\u001b[1;33m.\u001b[0m\u001b[0mpatch\u001b[0m\u001b[1;33m)\u001b[0m\u001b[1;33m\u001b[0m\u001b[0m\n\u001b[0;32m   1758\u001b[0m \u001b[1;33m\u001b[0m\u001b[0m\n\u001b[1;32m-> 1759\u001b[1;33m         \u001b[0mself\u001b[0m\u001b[1;33m.\u001b[0m\u001b[0m_update_line_limits\u001b[0m\u001b[1;33m(\u001b[0m\u001b[0mline\u001b[0m\u001b[1;33m)\u001b[0m\u001b[1;33m\u001b[0m\u001b[0m\n\u001b[0m\u001b[0;32m   1760\u001b[0m         \u001b[1;32mif\u001b[0m \u001b[1;32mnot\u001b[0m \u001b[0mline\u001b[0m\u001b[1;33m.\u001b[0m\u001b[0mget_label\u001b[0m\u001b[1;33m(\u001b[0m\u001b[1;33m)\u001b[0m\u001b[1;33m:\u001b[0m\u001b[1;33m\u001b[0m\u001b[0m\n\u001b[0;32m   1761\u001b[0m             \u001b[0mline\u001b[0m\u001b[1;33m.\u001b[0m\u001b[0mset_label\u001b[0m\u001b[1;33m(\u001b[0m\u001b[1;34m'_line%d'\u001b[0m \u001b[1;33m%\u001b[0m \u001b[0mlen\u001b[0m\u001b[1;33m(\u001b[0m\u001b[0mself\u001b[0m\u001b[1;33m.\u001b[0m\u001b[0mlines\u001b[0m\u001b[1;33m)\u001b[0m\u001b[1;33m)\u001b[0m\u001b[1;33m\u001b[0m\u001b[0m\n",
      "\u001b[1;32mc:\\users\\brian\\appdata\\local\\programs\\python\\python35-32\\lib\\site-packages\\matplotlib\\axes\\_base.py\u001b[0m in \u001b[0;36m_update_line_limits\u001b[1;34m(self, line)\u001b[0m\n\u001b[0;32m   1779\u001b[0m         \u001b[0mFigures\u001b[0m \u001b[0mout\u001b[0m \u001b[0mthe\u001b[0m \u001b[0mdata\u001b[0m \u001b[0mlimit\u001b[0m \u001b[0mof\u001b[0m \u001b[0mthe\u001b[0m \u001b[0mgiven\u001b[0m \u001b[0mline\u001b[0m\u001b[1;33m,\u001b[0m \u001b[0mupdating\u001b[0m \u001b[0mself\u001b[0m\u001b[1;33m.\u001b[0m\u001b[0mdataLim\u001b[0m\u001b[1;33m.\u001b[0m\u001b[1;33m\u001b[0m\u001b[0m\n\u001b[0;32m   1780\u001b[0m         \"\"\"\n\u001b[1;32m-> 1781\u001b[1;33m         \u001b[0mpath\u001b[0m \u001b[1;33m=\u001b[0m \u001b[0mline\u001b[0m\u001b[1;33m.\u001b[0m\u001b[0mget_path\u001b[0m\u001b[1;33m(\u001b[0m\u001b[1;33m)\u001b[0m\u001b[1;33m\u001b[0m\u001b[0m\n\u001b[0m\u001b[0;32m   1782\u001b[0m         \u001b[1;32mif\u001b[0m \u001b[0mpath\u001b[0m\u001b[1;33m.\u001b[0m\u001b[0mvertices\u001b[0m\u001b[1;33m.\u001b[0m\u001b[0msize\u001b[0m \u001b[1;33m==\u001b[0m \u001b[1;36m0\u001b[0m\u001b[1;33m:\u001b[0m\u001b[1;33m\u001b[0m\u001b[0m\n\u001b[0;32m   1783\u001b[0m             \u001b[1;32mreturn\u001b[0m\u001b[1;33m\u001b[0m\u001b[0m\n",
      "\u001b[1;32mc:\\users\\brian\\appdata\\local\\programs\\python\\python35-32\\lib\\site-packages\\matplotlib\\lines.py\u001b[0m in \u001b[0;36mget_path\u001b[1;34m(self)\u001b[0m\n\u001b[0;32m    949\u001b[0m         \"\"\"\n\u001b[0;32m    950\u001b[0m         \u001b[1;32mif\u001b[0m \u001b[0mself\u001b[0m\u001b[1;33m.\u001b[0m\u001b[0m_invalidy\u001b[0m \u001b[1;32mor\u001b[0m \u001b[0mself\u001b[0m\u001b[1;33m.\u001b[0m\u001b[0m_invalidx\u001b[0m\u001b[1;33m:\u001b[0m\u001b[1;33m\u001b[0m\u001b[0m\n\u001b[1;32m--> 951\u001b[1;33m             \u001b[0mself\u001b[0m\u001b[1;33m.\u001b[0m\u001b[0mrecache\u001b[0m\u001b[1;33m(\u001b[0m\u001b[1;33m)\u001b[0m\u001b[1;33m\u001b[0m\u001b[0m\n\u001b[0m\u001b[0;32m    952\u001b[0m         \u001b[1;32mreturn\u001b[0m \u001b[0mself\u001b[0m\u001b[1;33m.\u001b[0m\u001b[0m_path\u001b[0m\u001b[1;33m\u001b[0m\u001b[0m\n\u001b[0;32m    953\u001b[0m \u001b[1;33m\u001b[0m\u001b[0m\n",
      "\u001b[1;32mc:\\users\\brian\\appdata\\local\\programs\\python\\python35-32\\lib\\site-packages\\matplotlib\\lines.py\u001b[0m in \u001b[0;36mrecache\u001b[1;34m(self, always)\u001b[0m\n\u001b[0;32m    655\u001b[0m         \u001b[1;32mif\u001b[0m \u001b[0malways\u001b[0m \u001b[1;32mor\u001b[0m \u001b[0mself\u001b[0m\u001b[1;33m.\u001b[0m\u001b[0m_invalidy\u001b[0m\u001b[1;33m:\u001b[0m\u001b[1;33m\u001b[0m\u001b[0m\n\u001b[0;32m    656\u001b[0m             \u001b[0myconv\u001b[0m \u001b[1;33m=\u001b[0m \u001b[0mself\u001b[0m\u001b[1;33m.\u001b[0m\u001b[0mconvert_yunits\u001b[0m\u001b[1;33m(\u001b[0m\u001b[0mself\u001b[0m\u001b[1;33m.\u001b[0m\u001b[0m_yorig\u001b[0m\u001b[1;33m)\u001b[0m\u001b[1;33m\u001b[0m\u001b[0m\n\u001b[1;32m--> 657\u001b[1;33m             \u001b[0my\u001b[0m \u001b[1;33m=\u001b[0m \u001b[0m_to_unmasked_float_array\u001b[0m\u001b[1;33m(\u001b[0m\u001b[0myconv\u001b[0m\u001b[1;33m)\u001b[0m\u001b[1;33m.\u001b[0m\u001b[0mravel\u001b[0m\u001b[1;33m(\u001b[0m\u001b[1;33m)\u001b[0m\u001b[1;33m\u001b[0m\u001b[0m\n\u001b[0m\u001b[0;32m    658\u001b[0m         \u001b[1;32melse\u001b[0m\u001b[1;33m:\u001b[0m\u001b[1;33m\u001b[0m\u001b[0m\n\u001b[0;32m    659\u001b[0m             \u001b[0my\u001b[0m \u001b[1;33m=\u001b[0m \u001b[0mself\u001b[0m\u001b[1;33m.\u001b[0m\u001b[0m_y\u001b[0m\u001b[1;33m\u001b[0m\u001b[0m\n",
      "\u001b[1;32mc:\\users\\brian\\appdata\\local\\programs\\python\\python35-32\\lib\\site-packages\\matplotlib\\cbook\\__init__.py\u001b[0m in \u001b[0;36m_to_unmasked_float_array\u001b[1;34m(x)\u001b[0m\n\u001b[0;32m   2006\u001b[0m         \u001b[1;32mreturn\u001b[0m \u001b[0mnp\u001b[0m\u001b[1;33m.\u001b[0m\u001b[0mma\u001b[0m\u001b[1;33m.\u001b[0m\u001b[0masarray\u001b[0m\u001b[1;33m(\u001b[0m\u001b[0mx\u001b[0m\u001b[1;33m,\u001b[0m \u001b[0mfloat\u001b[0m\u001b[1;33m)\u001b[0m\u001b[1;33m.\u001b[0m\u001b[0mfilled\u001b[0m\u001b[1;33m(\u001b[0m\u001b[0mnp\u001b[0m\u001b[1;33m.\u001b[0m\u001b[0mnan\u001b[0m\u001b[1;33m)\u001b[0m\u001b[1;33m\u001b[0m\u001b[0m\n\u001b[0;32m   2007\u001b[0m     \u001b[1;32melse\u001b[0m\u001b[1;33m:\u001b[0m\u001b[1;33m\u001b[0m\u001b[0m\n\u001b[1;32m-> 2008\u001b[1;33m         \u001b[1;32mreturn\u001b[0m \u001b[0mnp\u001b[0m\u001b[1;33m.\u001b[0m\u001b[0masarray\u001b[0m\u001b[1;33m(\u001b[0m\u001b[0mx\u001b[0m\u001b[1;33m,\u001b[0m \u001b[0mfloat\u001b[0m\u001b[1;33m)\u001b[0m\u001b[1;33m\u001b[0m\u001b[0m\n\u001b[0m\u001b[0;32m   2009\u001b[0m \u001b[1;33m\u001b[0m\u001b[0m\n\u001b[0;32m   2010\u001b[0m \u001b[1;33m\u001b[0m\u001b[0m\n",
      "\u001b[1;32mc:\\users\\brian\\appdata\\local\\programs\\python\\python35-32\\lib\\site-packages\\numpy\\core\\numeric.py\u001b[0m in \u001b[0;36masarray\u001b[1;34m(a, dtype, order)\u001b[0m\n\u001b[0;32m    529\u001b[0m \u001b[1;33m\u001b[0m\u001b[0m\n\u001b[0;32m    530\u001b[0m     \"\"\"\n\u001b[1;32m--> 531\u001b[1;33m     \u001b[1;32mreturn\u001b[0m \u001b[0marray\u001b[0m\u001b[1;33m(\u001b[0m\u001b[0ma\u001b[0m\u001b[1;33m,\u001b[0m \u001b[0mdtype\u001b[0m\u001b[1;33m,\u001b[0m \u001b[0mcopy\u001b[0m\u001b[1;33m=\u001b[0m\u001b[1;32mFalse\u001b[0m\u001b[1;33m,\u001b[0m \u001b[0morder\u001b[0m\u001b[1;33m=\u001b[0m\u001b[0morder\u001b[0m\u001b[1;33m)\u001b[0m\u001b[1;33m\u001b[0m\u001b[0m\n\u001b[0m\u001b[0;32m    532\u001b[0m \u001b[1;33m\u001b[0m\u001b[0m\n\u001b[0;32m    533\u001b[0m \u001b[1;33m\u001b[0m\u001b[0m\n",
      "\u001b[1;31mValueError\u001b[0m: setting an array element with a sequence."
     ]
    }
   ],
   "source": [
    "plt.plot(normalisedData)\n",
    "plt.show()"
   ]
  },
  {
   "cell_type": "code",
   "execution_count": 55,
   "metadata": {},
   "outputs": [
    {
     "data": {
      "text/plain": [
       "28"
      ]
     },
     "execution_count": 55,
     "metadata": {},
     "output_type": "execute_result"
    }
   ],
   "source": [
    "len(normalisedData)"
   ]
  },
  {
   "cell_type": "code",
   "execution_count": 57,
   "metadata": {},
   "outputs": [
    {
     "data": {
      "image/png": "[encoded data removed]",
      "text/plain": [
       "<matplotlib.figure.Figure at 0x81844b0>"
      ]
     },
     "metadata": {},
     "output_type": "display_data"
    }
   ],
   "source": [
    "plt.plot([1,2,None,4], [1,4,9,19], 'ro')\n",
    "plt.axis([0, 6, 0, 20])\n",
    "plt.show()"
   ]
  },
  {
   "cell_type": "code",
   "execution_count": 183,
   "metadata": {},
   "outputs": [
    {
     "data": {
      "image/png": "[encoded data removed]",
      "text/plain": [
       "<matplotlib.figure.Figure at 0xe672990>"
      ]
     },
     "metadata": {},
     "output_type": "display_data"
    }
   ],
   "source": [
    "for l in dic2:\n",
    "    \n",
    "    plt.plot(dic2[l])\n",
    "\n",
    "plt.ylabel('human chorionic gonadotropin')\n",
    "plt.xlabel('week')\n",
    "#plt.plot(np.unique(x), np.poly1d(np.polyfit(x, y, 1))(np.unique(x)))\n",
    "plt.show()"
   ]
  },
  {
   "cell_type": "code",
   "execution_count": 59,
   "metadata": {},
   "outputs": [
    {
     "ename": "NameError",
     "evalue": "name 'x' is not defined",
     "output_type": "error",
     "traceback": [
      "\u001b[1;31m---------------------------------------------------------------------------\u001b[0m",
      "\u001b[1;31mNameError\u001b[0m                                 Traceback (most recent call last)",
      "\u001b[1;32m<ipython-input-59-d52f3b2d8c6f>\u001b[0m in \u001b[0;36m<module>\u001b[1;34m()\u001b[0m\n\u001b[1;32m----> 1\u001b[1;33m \u001b[0mplt\u001b[0m\u001b[1;33m.\u001b[0m\u001b[0mplot\u001b[0m\u001b[1;33m(\u001b[0m\u001b[0mnp\u001b[0m\u001b[1;33m.\u001b[0m\u001b[0munique\u001b[0m\u001b[1;33m(\u001b[0m\u001b[0mx\u001b[0m\u001b[1;33m)\u001b[0m\u001b[1;33m,\u001b[0m \u001b[0mnp\u001b[0m\u001b[1;33m.\u001b[0m\u001b[0mpoly1d\u001b[0m\u001b[1;33m(\u001b[0m\u001b[0mnp\u001b[0m\u001b[1;33m.\u001b[0m\u001b[0mpolyfit\u001b[0m\u001b[1;33m(\u001b[0m\u001b[0mx\u001b[0m\u001b[1;33m,\u001b[0m \u001b[0my\u001b[0m\u001b[1;33m,\u001b[0m \u001b[1;36m1\u001b[0m\u001b[1;33m)\u001b[0m\u001b[1;33m)\u001b[0m\u001b[1;33m(\u001b[0m\u001b[0mnp\u001b[0m\u001b[1;33m.\u001b[0m\u001b[0munique\u001b[0m\u001b[1;33m(\u001b[0m\u001b[0mx\u001b[0m\u001b[1;33m)\u001b[0m\u001b[1;33m)\u001b[0m\u001b[1;33m)\u001b[0m\u001b[1;33m\u001b[0m\u001b[0m\n\u001b[0m",
      "\u001b[1;31mNameError\u001b[0m: name 'x' is not defined"
     ]
    }
   ],
   "source": [
    "plt.plot(np.unique(x), np.poly1d(np.polyfit(x, y, 1))(np.unique(x)))"
   ]
  },
  {
   "cell_type": "code",
   "execution_count": 184,
   "metadata": {},
   "outputs": [
    {
     "data": {
      "text/plain": [
       "2.302585092994046"
      ]
     },
     "execution_count": 184,
     "metadata": {},
     "output_type": "execute_result"
    }
   ],
   "source": [
    "math.log(10)"
   ]
  },
  {
   "cell_type": "code",
   "execution_count": null,
   "metadata": {},
   "outputs": [],
   "source": []
  }
 ],
 "metadata": {
  "kernelspec": {
   "display_name": "Python 3",
   "language": "python",
   "name": "python3"
  },
  "language_info": {
   "codemirror_mode": {
    "name": "ipython",
    "version": 3
   },
   "file_extension": ".py",
   "mimetype": "text/x-python",
   "name": "python",
   "nbconvert_exporter": "python",
   "pygments_lexer": "ipython3",
   "version": "3.5.2"
  }
 },
 "nbformat": 4,
 "nbformat_minor": 2
}
