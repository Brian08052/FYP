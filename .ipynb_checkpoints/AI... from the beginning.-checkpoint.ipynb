{
 "cells": [
  {
   "cell_type": "markdown",
   "metadata": {},
   "source": [
    "## DataStructure"
   ]
  },
  {
   "cell_type": "markdown",
   "metadata": {},
   "source": [
    "Ok. \n",
    "\n",
    "A vector is matric with one column, m x 1.\n",
    "\n",
    "A row vector has one row 1 x n.\n",
    "\n",
    "n = rows.\n",
    "m = collumns.\n",
    "\n",
    "We refer to an element in a vector using subscript. "
   ]
  },
  {
   "cell_type": "markdown",
   "metadata": {},
   "source": [
    "Pandas:\n",
    "   \n",
    "   Vectors: Series\n",
    "   \n",
    "   Matrices: DataFrame\n",
    "   \n",
    "   \n",
    "Numpy:\n",
    "\n",
    "    Numpy arrays, 1d, 2d, 3d, etc.\n",
    "    \n",
    "\n",
    "Scikit-learn expects data in numpy arrays."
   ]
  },
  {
   "cell_type": "code",
   "execution_count": 18,
   "metadata": {},
   "outputs": [],
   "source": [
    "import numpy as np\n",
    "\n",
    "x = np.array([2,4,3])\n",
    "A = np.array([[1,2,3], [5,4,2]])"
   ]
  },
  {
   "cell_type": "code",
   "execution_count": 4,
   "metadata": {},
   "outputs": [
    {
     "name": "stdout",
     "output_type": "stream",
     "text": [
      "(3,)\n",
      "(2, 3)\n"
     ]
    }
   ],
   "source": [
    "print(x.shape)\n",
    "print(A.shape)"
   ]
  },
  {
   "cell_type": "code",
   "execution_count": 6,
   "metadata": {},
   "outputs": [
    {
     "data": {
      "text/plain": [
       "(3, 1)"
      ]
     },
     "execution_count": 6,
     "metadata": {},
     "output_type": "execute_result"
    }
   ],
   "source": [
    "X = x.reshape(3,1)\n",
    "X.shape"
   ]
  },
  {
   "cell_type": "markdown",
   "metadata": {},
   "source": [
    "You can do your Scalar Addition, Multiplication, matrix addition and Hadamard Product using numpy arrays."
   ]
  },
  {
   "cell_type": "code",
   "execution_count": 19,
   "metadata": {},
   "outputs": [
    {
     "name": "stdout",
     "output_type": "stream",
     "text": [
      "17\n",
      "[1.41421356 2.         1.73205081]\n"
     ]
    }
   ],
   "source": [
    "#Some other nifty functions:\n",
    "\n",
    "print(A.sum())\n",
    "print(np.sqrt(x)) #np has this function.\n",
    "#x = np.arange(1,100)\n",
    "#np.sum(x) "
   ]
  },
  {
   "cell_type": "markdown",
   "metadata": {},
   "source": [
    "np has these universal functions, such as abs, exp, log10, etc. They're much faster - never loop do do anything if you're you're dealing with these structures."
   ]
  },
  {
   "cell_type": "markdown",
   "metadata": {},
   "source": [
    "## Datasets"
   ]
  },
  {
   "cell_type": "markdown",
   "metadata": {},
   "source": [
    "A **vector** is your **example** ie. its one column in the dataframe.\n",
    "\n",
    "The fourth example in your dataset is where m = 4.\n",
    "Second feature is where n = 2.\n",
    "\n",
    "$x^{4}$\n",
    "\n",
    "$x_{2}$\n",
    "\n",
    "$x_{2}$$ ^{4}$"
   ]
  },
  {
   "cell_type": "markdown",
   "metadata": {},
   "source": [
    "Representing as a Matrix: \n",
    "* Each **example** becomes a **row**. \n",
    "* Each **feature** can be seen in a **column**"
   ]
  },
  {
   "cell_type": "markdown",
   "metadata": {},
   "source": [
    "**Using pandas:**\n",
    "\n",
    "df = pd.read_csv(\"dataset.csv\")  \n",
    "df.shape = (207, 9):\n",
    "+ 207 Examples\n",
    "+ 7 Features"
   ]
  },
  {
   "cell_type": "markdown",
   "metadata": {},
   "source": [
    "**Some code:**\n",
    "   \n",
    "df.describe(include = \"all\")\n",
    "df.head(3)\n",
    "    "
   ]
  },
  {
   "cell_type": "markdown",
   "metadata": {},
   "source": [
    "### **Ok, but didn't you say we need these to be in numpy arrays?\n",
    "\n",
    "Dude... that's what the pipelines are for lmao. so:\n",
    "\n",
    "features = \\[\"flarea\", \"bdrooms\", \"bathrms\"\\]\n",
    "\n",
    "pipeline = Pipeline(\\[(\"selector\",DataFrameSelector(features))\\])"
   ]
  },
  {
   "cell_type": "markdown",
   "metadata": {},
   "source": [
    "### That pipeline will literally just make a dataframe an 2d numpy array.\n",
    "\n",
    "The pipeline has to be fit to the dataframe.  \n",
    "Then it can transform your dataframe into the numpy array."
   ]
  },
  {
   "cell_type": "code",
   "execution_count": null,
   "metadata": {},
   "outputs": [],
   "source": [
    "pipeline.fit(df)\n",
    "X = pipeline.transform(df)"
   ]
  },
  {
   "cell_type": "markdown",
   "metadata": {},
   "source": [
    "You can also put a scaler into the pipeline -   \n",
    "(\"selector\",DataFrameSelector(features)),   \n",
    "(\"scaler\" , MinMaxScaler()) // StandardScaler()"
   ]
  },
  {
   "cell_type": "markdown",
   "metadata": {},
   "source": [
    "## Clustering\n",
    "\n",
    "kmeans = KMeans(n_clusters = k)\n",
    "kmeans.fit(X)\n",
    "kmeans.labels_ -- shows which cluster each example is in.\n",
    "\n",
    "\n",
    "---------------\n",
    "\n",
    "\n",
    "agg_complete = AgglomerativeClustering( linkage=\"complete\")# The alternative is linkage=\"average\"\n",
    "clustering_complete = agg_complete.fit(X)\n",
    "\n",
    "fig = plt.figure() \n",
    "plot_dendrogram(clustering_complete  \n",
    "plt.show ()"
   ]
  },
  {
   "cell_type": "markdown",
   "metadata": {},
   "source": [
    "# Prediction"
   ]
  },
  {
   "cell_type": "markdown",
   "metadata": {},
   "source": [
    "**Regression:** Target Value  \n",
    "**Classification:** Assign to class (binary, multiclass, multilabel) (ordered)"
   ]
  },
  {
   "cell_type": "code",
   "execution_count": null,
   "metadata": {},
   "outputs": [],
   "source": [
    "(The very good code to graph everything against each other)\n",
    "pd.scatter_matrix(df,figsize=(15,15))"
   ]
  },
  {
   "cell_type": "code",
   "execution_count": null,
   "metadata": {},
   "outputs": [],
   "source": [
    "# Delete examples from the Cork Property Prices Dataset whose floor area s are too small or too big \n",
    "cork_df = ( cork_df [( cork_df [ \"flarea\" ] . isnull ()) | (( cork_df [ \"flarea\" ] > 10 ) & ( cork_df [ \"flarea\" ] < 1000 ))]) . copy () cork_df . reset_index ( drop = True , inplace = True ) # Check the anomalies were filtered out cork_df . shape"
   ]
  }
 ],
 "metadata": {
  "kernelspec": {
   "display_name": "Python 3",
   "language": "python",
   "name": "python3"
  },
  "language_info": {
   "codemirror_mode": {
    "name": "ipython",
    "version": 3
   },
   "file_extension": ".py",
   "mimetype": "text/x-python",
   "name": "python",
   "nbconvert_exporter": "python",
   "pygments_lexer": "ipython3",
   "version": "3.5.2"
  }
 },
 "nbformat": 4,
 "nbformat_minor": 2
}
